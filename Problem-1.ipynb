{
 "cells": [
  {
   "cell_type": "code",
   "execution_count": 1,
   "metadata": {},
   "outputs": [],
   "source": [
    "import numpy as np\n",
    "import matplotlib.pyplot as plt"
   ]
  },
  {
   "cell_type": "markdown",
   "metadata": {},
   "source": [
    "# 1D Ising model + Transfer matrix\n",
    "\n",
    "* Construct the transfer matrix at temperature $T$ with external field $B$\n",
    "* Find the eivenvalues of the transfer matrix and compare to the exact results.\n",
    "* Evaluate the partition function $Z$ at different system size $N$ and $T$, $B$. Compare to the exact results.\n",
    "* For a fixed $N$, $T$, $B$, evaluate $\\langle S_0 S_j\\rangle$ where $j=0,1,\\cdots N$. \n",
    "* Plot $\\langle S_0 S_j\\rangle$ up to $j=N/2$ and show that it decays exponentially.\n",
    "  * Please try several $N$, $T$, $B$. What is the largest $N$ you can go? What is the lowest $T$ you can go?"
   ]
  },
  {
   "cell_type": "code",
   "execution_count": 2,
   "metadata": {},
   "outputs": [],
   "source": [
    "#第一題 Construct the transfer matrix at temperature 𝑇 with external field 𝐵\n",
    "def transfer_matrix(t,B,J):\n",
    "    kb = 1\n",
    "    beta = 1/(kb*t)\n",
    "    T = np.array([[np.exp(beta*(J+B)),np.exp(-beta*J)],[np.exp(-beta*J),np.exp(beta*(J-B))]])\n",
    "    return T    "
   ]
  },
  {
   "cell_type": "code",
   "execution_count": 3,
   "metadata": {},
   "outputs": [
    {
     "name": "stdout",
     "output_type": "stream",
     "text": [
      "transfer_matrix(t=1,B=5,J=1)= [[4.03428793e+02 3.67879441e-01]\n",
      " [3.67879441e-01 1.83156389e-02]]\n"
     ]
    }
   ],
   "source": [
    "print('transfer_matrix(t=1,B=5,J=1)=',transfer_matrix(1,5,1))"
   ]
  },
  {
   "cell_type": "code",
   "execution_count": 4,
   "metadata": {},
   "outputs": [
    {
     "name": "stdout",
     "output_type": "stream",
     "text": [
      "eigenvalue: [4.03429129e+02 1.79801613e-02]\n",
      "eigenvector: [[ 9.99999584e-01 -9.11922229e-04]\n",
      " [ 9.11922229e-04  9.99999584e-01]]\n"
     ]
    }
   ],
   "source": [
    "#第二題 Find the eivenvalues of the transfer matrix and compare to the exact results.\n",
    "eigenvalue, eigenvector = np.linalg.eig(transfer_matrix(1,5,1))\n",
    "print(\"eigenvalue:\",eigenvalue)\n",
    "print(\"eigenvector:\",eigenvector)"
   ]
  },
  {
   "cell_type": "code",
   "execution_count": 5,
   "metadata": {},
   "outputs": [],
   "source": [
    "def eigen_exact(t,B,J):\n",
    "    kb = 1\n",
    "    beta = 1/(kb*t)\n",
    "    lambda_1 = np.exp(beta*J)*np.cosh(beta*B) + np.sqrt(np.exp(-2*beta*J) + np.exp(2*beta*J)*np.sinh(beta*B)**2)\n",
    "    lambda_2 = np.exp(beta*J)*np.cosh(beta*B) - np.sqrt(np.exp(-2*beta*J) + np.exp(2*beta*J)*np.sinh(beta*B)**2)\n",
    "    lambda_ = np.array([lambda_1,lambda_2])\n",
    "    return lambda_   "
   ]
  },
  {
   "cell_type": "code",
   "execution_count": 6,
   "metadata": {},
   "outputs": [
    {
     "name": "stdout",
     "output_type": "stream",
     "text": [
      "exact eigenvalue: [4.03429129e+02 1.79801613e-02]\n"
     ]
    }
   ],
   "source": [
    "print('exact eigenvalue:',eigen_exact(1,5,1))"
   ]
  },
  {
   "cell_type": "code",
   "execution_count": 7,
   "metadata": {},
   "outputs": [],
   "source": [
    "#第三題 Evaluate the partition function 𝑍 at different system size 𝑁 and 𝑇 ,𝐵. Compare to the exact results.\n",
    "def partition_function(t,B,J,N):\n",
    "    T = transfer_matrix(t,B,J)\n",
    "    z = np.array([[1,0],[0,1]])\n",
    "    for i in range (N):\n",
    "        z = np.dot(z,T)\n",
    "    tracez = np.trace(z)\n",
    "    return tracez\n",
    "\n",
    "def partition_function_exac(t,B,J,N):\n",
    "    kb = 1\n",
    "    beta = 1/(kb*t)\n",
    "    lambda_1 = np.exp(beta*J)*np.cosh(beta*B) + np.sqrt(np.exp(-2*beta*J) + np.exp(2*beta*J)*np.sinh(beta*B)**2)\n",
    "    lambda_2 = np.exp(beta*J)*np.cosh(beta*B) - np.sqrt(np.exp(-2*beta*J) + np.exp(2*beta*J)*np.sinh(beta*B)**2)\n",
    "    zz = (lambda_1**N) + (lambda_2**N)\n",
    "    return zz"
   ]
  },
  {
   "cell_type": "code",
   "execution_count": 8,
   "metadata": {},
   "outputs": [
    {
     "name": "stdout",
     "output_type": "stream",
     "text": [
      "when t=1,B=5,J=1,N=100 :\n",
      "partition function: 3.7733340653022634e+260\n",
      "exact partition function: 3.77333406530227e+260\n"
     ]
    }
   ],
   "source": [
    "print('when t=1,B=5,J=1,N=100 :')\n",
    "print('partition function:',partition_function(1,5,1,100))\n",
    "print('exact partition function:',partition_function_exac(1,5,1,100))"
   ]
  },
  {
   "cell_type": "code",
   "execution_count": 9,
   "metadata": {},
   "outputs": [
    {
     "name": "stdout",
     "output_type": "stream",
     "text": [
      "partition function: 3.773334065302269e+260\n"
     ]
    }
   ],
   "source": [
    "# another way to define the partition function -- np.linalg.matrix_power\n",
    "def partition_function2(t,B,J,N):\n",
    "    T = transfer_matrix(t,B,J)\n",
    "    Z_cal =np.trace(np.linalg.matrix_power(T, N))\n",
    "    return Z_cal\n",
    "\n",
    "print('partition function:',partition_function2(1,5,1,100))"
   ]
  },
  {
   "cell_type": "code",
   "execution_count": 10,
   "metadata": {},
   "outputs": [
    {
     "name": "stdout",
     "output_type": "stream",
     "text": [
      "when t=1,B=0,J=1,N=32 it shows :\n"
     ]
    },
    {
     "data": {
      "text/plain": [
       "Text(0.5, 1.0, 'N = 32')"
      ]
     },
     "execution_count": 10,
     "metadata": {},
     "output_type": "execute_result"
    },
    {
     "data": {
      "image/png": "[encoded data removed]",
      "text/plain": [
       "<Figure size 432x288 with 1 Axes>"
      ]
     },
     "metadata": {
      "needs_background": "light"
     },
     "output_type": "display_data"
    }
   ],
   "source": [
    "#第四題 For a fixed 𝑁 ,𝑇 ,𝐵 ,evaluate ⟨𝑆0𝑆𝑗⟩ where 𝑗=0,1,⋯𝑁. Plot ⟨𝑆0𝑆𝑗⟩ up to 𝑗=𝑁/2  and show that it decays exponentially.\n",
    "def correlation_function(t,B,J,N):\n",
    "    kb = 1\n",
    "    beta = 1/(kb*t)\n",
    "    Tz = np.array([[1,0],[0,-1]])\n",
    "    T = transfer_matrix(t,B,J)\n",
    "    SzSz = np.zeros(N+1)\n",
    "    for j in range(N):\n",
    "        z = np.array([[1,0],[0,1]])\n",
    "        z_s0sj = Tz\n",
    "        for i in range(N):\n",
    "            z = np.dot(z,T)\n",
    "            if i == j:\n",
    "                z_s0sj = z_s0sj @ Tz @ T\n",
    "            else :\n",
    "                z_s0sj = np.dot(z_s0sj,T)    \n",
    "            SzSz[j] = np.trace(z_s0sj)/np.trace(z)\n",
    "    SzSz[N] = SzSz[0]\n",
    "    \n",
    "    fig, ax = plt.subplots()\n",
    "    ax.plot(SzSz[0:N//2],'.') \n",
    "    plt.xlabel('j')\n",
    "    plt.ylabel('<S$_{0}$S$_{j}$>')\n",
    "\n",
    "correlation_function(1,0,1,32)\n",
    "print('when t=1,B=0,J=1,N=32 it shows :')\n",
    "plt.title('N = 32')\n"
   ]
  },
  {
   "cell_type": "code",
   "execution_count": 11,
   "metadata": {},
   "outputs": [
    {
     "name": "stdout",
     "output_type": "stream",
     "text": [
      "when t=1,B=0,J=1,N=629 it shows :\n"
     ]
    },
    {
     "data": {
      "text/plain": [
       "Text(0.5, 1.0, 'N = 629')"
      ]
     },
     "execution_count": 11,
     "metadata": {},
     "output_type": "execute_result"
    },
    {
     "data": {
      "image/png": "[encoded data removed]",
      "text/plain": [
       "<Figure size 432x288 with 1 Axes>"
      ]
     },
     "metadata": {
      "needs_background": "light"
     },
     "output_type": "display_data"
    }
   ],
   "source": [
    "#第五題 Please try several 𝑁,𝑇,𝐵. What is the largest 𝑁 you can go? What is the lowest 𝑇 you can go?\n",
    "correlation_function(1,0,1,629)\n",
    "print('when t=1,B=0,J=1,N=629 it shows :')\n",
    "plt.title('N = 629')"
   ]
  },
  {
   "cell_type": "code",
   "execution_count": 30,
   "metadata": {},
   "outputs": [
    {
     "name": "stderr",
     "output_type": "stream",
     "text": [
      "C:\\Users\\je871\\Anaconda3\\lib\\site-packages\\ipykernel_launcher.py:17: RuntimeWarning: invalid value encountered in double_scalars\n"
     ]
    },
    {
     "name": "stdout",
     "output_type": "stream",
     "text": [
      "when t=1,B=0,J=1,N=630 it shows :\n",
      "The largest N = 629, it cannot run at N = 630.\n"
     ]
    },
    {
     "data": {
      "image/png": "[encoded data removed]",
      "text/plain": [
       "<Figure size 432x288 with 1 Axes>"
      ]
     },
     "metadata": {
      "needs_background": "light"
     },
     "output_type": "display_data"
    }
   ],
   "source": [
    "correlation_function(1,0,1,630)\n",
    "print('when t=1,B=0,J=1,N=630 it shows :')\n",
    "plt.title('N = 630')\n",
    "\n",
    "print('The largest N = 629, it cannot run at N = 630.' )"
   ]
  },
  {
   "cell_type": "code",
   "execution_count": 31,
   "metadata": {},
   "outputs": [
    {
     "name": "stdout",
     "output_type": "stream",
     "text": [
      "when t=0.1104,B=0,J=1,N=32 it shows :\n"
     ]
    },
    {
     "data": {
      "text/plain": [
       "Text(0.5, 1.0, 'N = 32 , t = 0.1104')"
      ]
     },
     "execution_count": 31,
     "metadata": {},
     "output_type": "execute_result"
    },
    {
     "data": {
      "image/png": "[encoded data removed]",
      "text/plain": [
       "<Figure size 432x288 with 1 Axes>"
      ]
     },
     "metadata": {
      "needs_background": "light"
     },
     "output_type": "display_data"
    }
   ],
   "source": [
    "correlation_function(0.1104,0,1,32)\n",
    "print('when t=0.1104,B=0,J=1,N=32 it shows :')\n",
    "plt.title('N = 32 , t = 0.1104')"
   ]
  },
  {
   "cell_type": "code",
   "execution_count": 32,
   "metadata": {},
   "outputs": [
    {
     "name": "stdout",
     "output_type": "stream",
     "text": [
      "when t=0.1103,B=0,J=1,N=32 it shows :\n",
      "The lowest t = 0.1104, it cannot show decay at t = 0.1103.\n"
     ]
    },
    {
     "data": {
      "image/png": "[encoded data removed]",
      "text/plain": [
       "<Figure size 432x288 with 1 Axes>"
      ]
     },
     "metadata": {
      "needs_background": "light"
     },
     "output_type": "display_data"
    }
   ],
   "source": [
    "correlation_function(0.1103,0,1,32)\n",
    "print('when t=0.1103,B=0,J=1,N=32 it shows :')\n",
    "plt.title('N = 32 , t = 0.1103')\n",
    "\n",
    "print('The lowest t = 0.1104, it cannot show decay at t = 0.1103.' )"
   ]
  },
  {
   "cell_type": "code",
   "execution_count": null,
   "metadata": {},
   "outputs": [],
   "source": []
  }
 ],
 "metadata": {
  "kernelspec": {
   "display_name": "Python 3",
   "language": "python",
   "name": "python3"
  },
  "language_info": {
   "codemirror_mode": {
    "name": "ipython",
    "version": 3
   },
   "file_extension": ".py",
   "mimetype": "text/x-python",
   "name": "python",
   "nbconvert_exporter": "python",
   "pygments_lexer": "ipython3",
   "version": "3.7.1"
  }
 },
 "nbformat": 4,
 "nbformat_minor": 4
}
